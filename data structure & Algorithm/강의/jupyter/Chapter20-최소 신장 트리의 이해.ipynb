{
 "cells": [
  {
   "cell_type": "markdown",
   "metadata": {},
   "source": [
    "# 최소 신장 트리의 이해"
   ]
  },
  {
   "cell_type": "markdown",
   "metadata": {},
   "source": [
    "## 1) 신장트리란?(= Spanning Tree)\n",
    "- 트리의 조건을 만족하면서 모든 노드가 연결된 그래프\n",
    "- Spainning Tree의 조건? <BR>\n",
    "    1) 모든 노드가 서로 연결 되어 있어야 한다. <BR>\n",
    "    2) 트리의 속성을 만족 시켜야 한다. (사이클 존재 X)\n",
    "    \n",
    "    \n",
    "<img src=\"./image/Chapter-20_008.png\" width=400>\n",
    "    \n",
    "## 2) 최소 신장 트리(= Minimum Spanning Tree)\n",
    "- 가능한 Spanning Tree 중 가장 가중치가 적은 것. MST라고 불림.\n",
    "<img src=\"./image/Chapter-20_009.png\" width=400>\n",
    "    \n",
    "    \n",
    "- 그래프에서 MST를 찾는 대표적인 알고리즘으로\n",
    "    Kruskal's algorithm과 Prim's algorithm이 있음.<br><br><br><br><br>\n",
    " \n",
    "    \n",
    "    \n",
    "    "
   ]
  },
  {
   "cell_type": "markdown",
   "metadata": {},
   "source": [
    "# Kruskal's algorithm"
   ]
  },
  {
   "cell_type": "markdown",
   "metadata": {},
   "source": [
    "- 그래프에서 MST를 찾는 대표적인 알고리즘.\n",
    "- 로직 순서.<br>\n",
    "    1) 모든 정점을 독립적인 집합으로 만든다.<br>\n",
    "    2) 모든 간선을 비용 기준으로 정렬하고 비용이 적은 간선부터 양 끝의 두 정점을 비교한다.<br>\n",
    "    3) 두 정점의 최상위 정점을 확인하고 서로다를 경우 두 정점을 연결한다.(사이클 체크)<br>\n",
    "    \n",
    "    \n",
    "<img src=\"./image/Chapter-20_010.png\" width=100><img src=\"./image/Chapter-20_011.png\" width=400>\n",
    "\n",
    "<br><br>\n",
    "* 사이클 체크가 관건임.<br>\n",
    "이를 체크하는 알고리즘 중에서는 Union-Find algorithm이 많이 쓰임."
   ]
  },
  {
   "cell_type": "markdown",
   "metadata": {},
   "source": [
    "# Union-Find algorithm"
   ]
  },
  {
   "cell_type": "markdown",
   "metadata": {},
   "source": [
    "- Disjoint Set을 표현할 때 사용하는 algorithm\n",
    "- 노드들 중에 연결된 노드를 찾거나 노드를 연결할때 사용함.\n",
    "\n",
    "* Disjoint Set?\n",
    "  서로소 집합 자료구조\n",
    "  공통 원소가 없는 (서로소) 상호 배타적인 부분 집합들로 나누어진 원소들에 대한 자료구조.\n",
    "              \n",
    "\n",
    "### 구현할 메서드 \n",
    "1) 초기화\n",
    "- n개의 원소가 개별 집합으로 이루어지도록 초기화\n",
    "        \n",
    "2) Union\n",
    "- 두 개별 집합(트리)을 하나의 집합으로 합침\n",
    "\n",
    "3) Find\n",
    "- 여러 노드가 존재할 때, 두개의 노드를 선택해서 현재 두 노드가 서로 같은 그래프에 속하는지 판별하기 위해.\n",
    "    각 그룹의 루트노드를 찾아 체크한다.\n",
    "<img src=\"./image/Chapter-20_012.png\" width=400>\n",
    "    \n",
    "    \n",
    "### 고려할 점.\n",
    "- Union시 링크드리스트 형태로 가게 될 수 있다. 이 경우에는 시간 복잡도가 O(N)으로 올라감.\n",
    "  이를 해결 위해 union-by-rank, path compression 기법을 사용한다."
   ]
  },
  {
   "cell_type": "markdown",
   "metadata": {},
   "source": [
    "## Union-by-rank algorithm"
   ]
  },
  {
   "cell_type": "markdown",
   "metadata": {},
   "source": [
    "- 각 트리의 rank를 기억해 두고 진행\n",
    "\n",
    "1) 두 rank가 차이나는 경우\n",
    "- union시 rank가 큰 트리에 작은 트리를 붙임.\n",
    "<img src=\"./image/Chapter-20_013.png\" width=400>\n",
    "\n",
    "2) 두 rank가 같은 경우\n",
    "- 한 tree의 h를 증가시켜 합침.\n",
    "<img src=\"./image/Chapter-20_014.png\" width=400>\n",
    "\n"
   ]
  },
  {
   "cell_type": "markdown",
   "metadata": {},
   "source": [
    "## Path Compression algorithm"
   ]
  },
  {
   "cell_type": "markdown",
   "metadata": {},
   "source": [
    "- Union-Find에서 Find를 거쳐간 노드를 해당 노드의 루트 노드에에 다이렉트로 연결함.\n",
    "\n",
    "<img src=\"./image/Chapter-20_015.png\" width=200>"
   ]
  },
  {
   "cell_type": "markdown",
   "metadata": {},
   "source": [
    "- Union-by-rank와 Path Compression을 사용시 시간복잡도를 O(1) 까지 낮출 수 있음."
   ]
  },
  {
   "cell_type": "markdown",
   "metadata": {},
   "source": [
    "# Kruskal's algorithm 구현\n",
    "\n",
    "\n",
    "<img src=\"./image/Chapter-20_010.png\" width=100>"
   ]
  },
  {
   "cell_type": "code",
   "execution_count": 16,
   "metadata": {},
   "outputs": [],
   "source": [
    "grahp = {\n",
    "    'vertices': ['A', 'B', 'C', 'D', 'E', 'F', 'G'],\n",
    "    'edges':[\n",
    "        (7, 'A', 'B'),\n",
    "        (5, 'A', 'D'),\n",
    "        (7, 'B', 'A'),\n",
    "        (8, 'B', 'C'),\n",
    "        (9, 'B', 'D'),\n",
    "        (7, 'B', 'E'),\n",
    "        (8, 'C', 'B'),\n",
    "        (5, 'C', 'E'),\n",
    "        (5, 'D', 'A'),\n",
    "        (9, 'D', 'B'),\n",
    "        (7, 'D', 'E'),\n",
    "        (6, 'D', 'F'),\n",
    "        (7, 'E', 'B'),\n",
    "        (5, 'E', 'C'),\n",
    "        (7, 'E', 'D'),\n",
    "        (8, 'E', 'F'),\n",
    "        (9, 'E', 'G'),\n",
    "        (6, 'F', 'D'),\n",
    "        (8, 'F', 'E'),\n",
    "        (11, 'F', 'G'),\n",
    "        (9, 'G', 'E'),\n",
    "        (11, 'G', 'F'),\n",
    "    ]\n",
    "}"
   ]
  },
  {
   "cell_type": "code",
   "execution_count": 21,
   "metadata": {},
   "outputs": [],
   "source": [
    "parent = dict()\n",
    "rank = dict()\n",
    "\n",
    "# 1. 모든 정점을 독립적인 집합으로 만든다.\n",
    "def make_set(node):\n",
    "    parent[node] = node\n",
    "    rank[node] = 0\n",
    "\n",
    "# 2. Path Compression\n",
    "def find(node):\n",
    "    if parent[node] != node: # 부모 노드가 자기 자신인 경우에는 본인이 루트인 경우임.\n",
    "        parent[node] = find(parent[node])\n",
    "    return parent[node]\n",
    "\n",
    "def union(node_v, node_u):\n",
    "    root1 = find(node_v)\n",
    "    root2 = find(node_u)\n",
    "\n",
    "    # Union-by-rank\n",
    "    if rank[root1] > rank[root2]:\n",
    "        parent[root2] = root1\n",
    "    else:\n",
    "        parent[root1] = root2\n",
    "        if rank[root1] == rank[root2]:\n",
    "            rank[root2] += 1\n",
    " \n",
    "    \n",
    "def kruskal(graph):\n",
    "    mst = list()\n",
    "    \n",
    "    for node in graph['vertices']:\n",
    "        make_set(node)\n",
    "        \n",
    "    \n",
    "# 2. 이 집합을 적은 가중치 순으로 정렬한다.\n",
    "    edges = graph['edges']\n",
    "    edges.sort() \n",
    "    \n",
    "    \n",
    "# 3. 순회하면서 사이클이 생기지 않으면 Union 한다.\n",
    "    for edge in edges:\n",
    "        weight, node_v, node_u = edge\n",
    "        if find(node_v) != find(node_u): \n",
    "            union(node_v, node_u)\n",
    "            mst.append(edge)\n",
    "    \n",
    "    return mst"
   ]
  },
  {
   "cell_type": "code",
   "execution_count": 22,
   "metadata": {},
   "outputs": [
    {
     "data": {
      "text/plain": [
       "[(5, 'A', 'D'),\n",
       " (5, 'C', 'E'),\n",
       " (6, 'D', 'F'),\n",
       " (7, 'A', 'B'),\n",
       " (7, 'B', 'E'),\n",
       " (9, 'E', 'G')]"
      ]
     },
     "execution_count": 22,
     "metadata": {},
     "output_type": "execute_result"
    }
   ],
   "source": [
    "kruskal(grahp)"
   ]
  },
  {
   "cell_type": "markdown",
   "metadata": {},
   "source": [
    "# 시간복잡도\n",
    "\n",
    "O(E log E)\n",
    "\n",
    "1) O(V) - make set \n",
    "\n",
    "2) O(E log E) - sort \n",
    "\n",
    "3) O(E) - Union-by-rank + Path Compression"
   ]
  }
 ],
 "metadata": {
  "kernelspec": {
   "display_name": "Python 3",
   "language": "python",
   "name": "python3"
  },
  "language_info": {
   "codemirror_mode": {
    "name": "ipython",
    "version": 3
   },
   "file_extension": ".py",
   "mimetype": "text/x-python",
   "name": "python",
   "nbconvert_exporter": "python",
   "pygments_lexer": "ipython3",
   "version": "3.7.6"
  }
 },
 "nbformat": 4,
 "nbformat_minor": 4
}
