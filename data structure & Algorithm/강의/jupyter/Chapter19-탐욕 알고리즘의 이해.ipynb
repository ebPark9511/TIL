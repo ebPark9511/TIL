{
 "cells": [
  {
   "cell_type": "markdown",
   "metadata": {},
   "source": [
    "# 탐욕 알고리즘의 이해"
   ]
  },
  {
   "cell_type": "markdown",
   "metadata": {},
   "source": [
    "## 1. 탐욕 알고리즘 이란?\n",
    "- 여러 경우 중 하나를 결정해야 할때마다, **매순간 최적이라고 생각되는 경우를 선택**하는 장식으로 진행하여 최종적인 값을 구하는 방식"
   ]
  },
  {
   "cell_type": "markdown",
   "metadata": {},
   "source": [
    "## 2. 탐욕 알고리즘 예"
   ]
  },
  {
   "cell_type": "markdown",
   "metadata": {},
   "source": [
    "### 문1) 동전문제\n",
    "- 지불해야 하는 값이 4720원 일 때 1원 50원 100원 500원 동전으로 동전의 수가 가장 적게 지불하시오."
   ]
  },
  {
   "cell_type": "code",
   "execution_count": 1,
   "metadata": {
    "scrolled": true
   },
   "outputs": [
    {
     "data": {
      "text/plain": [
       "(31, [[500, 220], [100, 20], [50, 20], [1, 0]])"
      ]
     },
     "execution_count": 1,
     "metadata": {},
     "output_type": "execute_result"
    }
   ],
   "source": [
    "pay_amt = 4720\n",
    "coin_list = [500,100,50,1]\n",
    "cnt = 0\n",
    "\n",
    "\n",
    "def solution(value, coin_list):\n",
    "    coin_list.sort(reverse = True)\n",
    "    tot_cnt = 0\n",
    "    detail = list()\n",
    "    for coin in coin_list:\n",
    "        coin_num = value // coin\n",
    "        tot_cnt += coin_num\n",
    "        value -= coin_num * coin\n",
    "        detail.append([coin, value])\n",
    "    \n",
    "    return tot_cnt, detail\n",
    "     \n",
    "\n",
    "\n",
    "solution(4720, coin_list)"
   ]
  },
  {
   "cell_type": "markdown",
   "metadata": {},
   "source": [
    "### 문2) 부분 배낭 문제\n",
    "- 무게 제한이 k인 배낭에 최대 가치를 가지도록 물건을 넣는 문제.\n",
    "       - 각 물건은 무게(w)와 가치(v)로 표현될 수 있음.\n",
    "       - 물건은 쪼갤수 있으므로 물건의 일부분이 배낭에 넣어질수 있음."
   ]
  },
  {
   "cell_type": "code",
   "execution_count": 101,
   "metadata": {},
   "outputs": [
    {
     "name": "stdout",
     "output_type": "stream",
     "text": [
      "[(10, 10), (30, 5), (15, 12), (20, 10), (25, 8)]\n"
     ]
    }
   ],
   "source": [
    "data_list = [(10,10),(30,5),(15,12),(20,10),(25,8)]\n",
    "\n",
    "# 가치 / 무게 로 data_list를 정렬한다.\n",
    "# lambda? closure와 같은 개념.\n",
    "\n",
    "print(data_list)\n",
    " \n",
    "\n",
    "def split_solution(data_list, limit): \n",
    "    # 물건은 쪼갤수 있으므로 물건의 일부분이 배낭에 넣어질수 있음.\n",
    "    data_list = sorted(data_list, key=lambda x:x[1]/x[0], reverse=True) \n",
    "     \n",
    "    total_v = 0\n",
    " \n",
    "    for data in data_list:\n",
    "        if limit-data[0] >= 0:\n",
    "            limit -= data[0] \n",
    "            total_v += data[1]\n",
    "        else: \n",
    "            total_v += data[1] * (limit / data[0] )\n",
    "            break\n",
    "     \n",
    "    \n",
    "    return total_v\n",
    "    \n"
   ]
  },
  {
   "cell_type": "code",
   "execution_count": 102,
   "metadata": {},
   "outputs": [
    {
     "data": {
      "text/plain": [
       "24.5"
      ]
     },
     "execution_count": 102,
     "metadata": {},
     "output_type": "execute_result"
    }
   ],
   "source": [
    "split_solution(data_list, 30)"
   ]
  },
  {
   "cell_type": "code",
   "execution_count": 103,
   "metadata": {},
   "outputs": [],
   "source": [
    "# 강의답\n",
    "\n",
    "def get_max_value(data_list, capacity): \n",
    "    data_list = sorted(data_list, key=lambda x:x[1]/x[0], reverse=True) \n",
    "    total_value = 0\n",
    "    detail = list() # 어떤 물건이 들어있는지 확인 위함.\n",
    "    for data in data_list:\n",
    "        if capacity - data[0] >= 0:\n",
    "            capacity -= data[0]\n",
    "            total_value += data[1]\n",
    "            detail.append(data)\n",
    "        else:\n",
    "            fraction = capacity / data[0]\n",
    "            total_value += data[1] * fraction\n",
    "            detail.append(data)\n",
    "            break\n",
    "       \n",
    "    return total_value, detail"
   ]
  },
  {
   "cell_type": "code",
   "execution_count": 104,
   "metadata": {},
   "outputs": [
    {
     "data": {
      "text/plain": [
       "(24.5, [(10, 10), (15, 12), (20, 10)])"
      ]
     },
     "execution_count": 104,
     "metadata": {},
     "output_type": "execute_result"
    }
   ],
   "source": [
    "get_max_value(data_list, 30) "
   ]
  },
  {
   "cell_type": "code",
   "execution_count": null,
   "metadata": {},
   "outputs": [],
   "source": []
  }
 ],
 "metadata": {
  "kernelspec": {
   "display_name": "Python 3",
   "language": "python",
   "name": "python3"
  },
  "language_info": {
   "codemirror_mode": {
    "name": "ipython",
    "version": 3
   },
   "file_extension": ".py",
   "mimetype": "text/x-python",
   "name": "python",
   "nbconvert_exporter": "python",
   "pygments_lexer": "ipython3",
   "version": "3.7.6"
  }
 },
 "nbformat": 4,
 "nbformat_minor": 4
}
