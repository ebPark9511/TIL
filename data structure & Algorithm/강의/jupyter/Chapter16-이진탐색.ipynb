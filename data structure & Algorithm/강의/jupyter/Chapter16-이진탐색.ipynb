{
 "cells": [
  {
   "cell_type": "markdown",
   "metadata": {},
   "source": [
    "## 탐색알고리즘: 이진탐색\n"
   ]
  },
  {
   "cell_type": "markdown",
   "metadata": {},
   "source": [
    "**1) 개념**\n",
    "- 정렬된 데이터를 1/2씩 나누어 데이터를 탐색한다."
   ]
  },
  {
   "cell_type": "markdown",
   "metadata": {},
   "source": [
    "**2) 분할정복 알고리즘과 이진탐색.**\n",
    "\n",
    "    a) 분할 정복(Divide and Conquer)\n",
    "        - Divide: 문제를 하나 또는 둘 이상으로 나눈다.\n",
    "        - Conquer: 나눠진 문제가 충분히 작고 해결이 가능하다면 해결, 아니라면 다시 나눈다. \n",
    "\n",
    "    b) 이진탐색\n",
    "        - Divide: 리스트를 두개의 서브 리스트로 나눔.\n",
    "        - Conquer: \n",
    "            * 검색할 숫자 (search) > 라면 뒷 부분의 서브 리스트에서 검색할 숫자를 찾는다.\n",
    "            * 검색할 숫자 (search) < 라면 앞 부분의 서브 리스트에서 검색할 숫자를 찾는다."
   ]
  },
  {
   "cell_type": "markdown",
   "metadata": {},
   "source": [
    "**3) 알고리즘 구현**"
   ]
  },
  {
   "cell_type": "code",
   "execution_count": 64,
   "metadata": {},
   "outputs": [],
   "source": [
    "def binary_search(data, search):\n",
    "    print(data)\n",
    "    if data == 1 and search == data[0]:\n",
    "        return True\n",
    "    if len(data) == 1 and search != data[0]:\n",
    "        return False\n",
    "    if len(data) == 0:\n",
    "        return False\n",
    "    \n",
    "    medium = len(data) // 2 # 둘로 나눈 몫\n",
    "    if search == data[medium]:\n",
    "        return True\n",
    "    else:\n",
    "        if search > data[medium]:\n",
    "             \n",
    "            return binary_search(data[medium:], search)\n",
    "        else: \n",
    "            return binary_search(data[:medium], search)"
   ]
  },
  {
   "cell_type": "code",
   "execution_count": 65,
   "metadata": {},
   "outputs": [
    {
     "data": {
      "text/plain": [
       "[2, 10, 14, 25, 39, 46, 53, 64, 81, 96]"
      ]
     },
     "execution_count": 65,
     "metadata": {},
     "output_type": "execute_result"
    }
   ],
   "source": [
    "import random\n",
    "data_list = random.sample(range(100), 10)\n",
    "data_list.sort() \n",
    "\n",
    "data_list"
   ]
  },
  {
   "cell_type": "code",
   "execution_count": 67,
   "metadata": {},
   "outputs": [
    {
     "name": "stdout",
     "output_type": "stream",
     "text": [
      "[2, 10, 14, 25, 39, 46, 53, 64, 81, 96]\n",
      "[46, 53, 64, 81, 96]\n",
      "[46, 53]\n",
      "[46]\n",
      "False\n"
     ]
    }
   ],
   "source": [
    " \n",
    "print(binary_search(data_list, 48))  \n",
    " "
   ]
  },
  {
   "cell_type": "markdown",
   "metadata": {},
   "source": [
    "**4) 시간 복잡도**"
   ]
  },
  {
   "cell_type": "markdown",
   "metadata": {},
   "source": [
    "- n개의 리스트를 매번 2로 나누어 1이 될 때까지 비교 연산을 k회 진행\n",
    "n * (1/2) * (1/2)... = 1\n",
    "\n",
    "log2n = k\n",
    "\n",
    "빅 오 표기법으로는 k+1이 결국 최종 시간 복잡도이다. (1이 되었을때도 비교 연산을 한번더 수행하기 때문)\n",
    "O(log2n + 1) -> O(logn)"
   ]
  }
 ],
 "metadata": {
  "kernelspec": {
   "display_name": "Python 3",
   "language": "python",
   "name": "python3"
  },
  "language_info": {
   "codemirror_mode": {
    "name": "ipython",
    "version": 3
   },
   "file_extension": ".py",
   "mimetype": "text/x-python",
   "name": "python",
   "nbconvert_exporter": "python",
   "pygments_lexer": "ipython3",
   "version": "3.7.6"
  }
 },
 "nbformat": 4,
 "nbformat_minor": 4
}
