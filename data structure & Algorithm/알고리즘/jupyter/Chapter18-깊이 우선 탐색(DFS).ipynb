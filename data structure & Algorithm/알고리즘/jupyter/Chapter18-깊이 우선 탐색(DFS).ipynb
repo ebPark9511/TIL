{
 "cells": [
  {
   "cell_type": "markdown",
   "metadata": {},
   "source": [
    "# 깊이 우선 탐색(DFS)"
   ]
  },
  {
   "cell_type": "markdown",
   "metadata": {},
   "source": [
    "## 1) 개념\n",
    "\n",
    "- Depth First Search\n",
    "\n",
    "    정점들의 자식들을 먼저 탐색하는 방식."
   ]
  },
  {
   "cell_type": "markdown",
   "metadata": {},
   "source": [
    "## 2) 파이썬으로 그래프 표현하기\n",
    "\n",
    "- 딕셔너리와 리스트로 표현 가능하다. \n",
    "   .\n",
    "    <img src=\"./image/Chapter-18_003.png\" width=400>\n",
    "    \n",
    "    <img src=\"./image/Chapter-18_002.png\" width=400>"
   ]
  },
  {
   "cell_type": "code",
   "execution_count": 6,
   "metadata": {},
   "outputs": [],
   "source": [
    "graph = dict()\n",
    "\n",
    "graph['A'] = ['B', 'C']\n",
    "graph['B'] = ['A', 'D']\n",
    "graph['C'] = ['A', 'G', 'H', 'I']\n",
    "graph['D'] = ['B', 'E', 'F']\n",
    "graph['E'] = ['D']\n",
    "graph['F'] = ['D']\n",
    "graph['G'] = ['C']\n",
    "graph['H'] = ['C']\n",
    "graph['I'] = ['C', 'J']\n",
    "graph['J'] = ['I']"
   ]
  },
  {
   "cell_type": "code",
   "execution_count": 7,
   "metadata": {
    "scrolled": true
   },
   "outputs": [
    {
     "data": {
      "text/plain": [
       "{'A': ['B', 'C'],\n",
       " 'B': ['A', 'D'],\n",
       " 'C': ['A', 'G', 'H', 'I'],\n",
       " 'D': ['B', 'E', 'F'],\n",
       " 'E': ['D'],\n",
       " 'F': ['D'],\n",
       " 'G': ['C'],\n",
       " 'H': ['C'],\n",
       " 'I': ['C', 'J'],\n",
       " 'J': ['I']}"
      ]
     },
     "execution_count": 7,
     "metadata": {},
     "output_type": "execute_result"
    }
   ],
   "source": [
    "graph"
   ]
  },
  {
   "cell_type": "markdown",
   "metadata": {},
   "source": [
    "## 3) DFS 알고리즘 구현\n",
    "\n",
    "- need_visit Stack: 방문이 필요한 노드의 정보를 가진 스택\n",
    "- visited Queue: 방문했던 노드들의 정보를 가진 큐\n",
    "\n",
    "1) need_visit에 루트 노드를 넣는다.<br>\n",
    "2) need_visit에서 꺼내 visited에 동일한 데이터가 있는지 확인한다.<br>\n",
    "3) 없으면 visited에 추가하고 해당 값을 key로 dict의 value를 가져와 need_visit에 넣는다.<br>\n",
    "4) 있다면 아무일도 진행하지 않는다.\n",
    "\n",
    "1~4번 반복.\n",
    "    \n",
    "    "
   ]
  },
  {
   "cell_type": "code",
   "execution_count": 8,
   "metadata": {},
   "outputs": [],
   "source": [
    "# graph의 Dictionary\n",
    "# Start node\n",
    "class DFS: \n",
    "    visited = list() \n",
    "    need_visit = list() \n",
    "    \n",
    "    def __init__(self, graph, start):\n",
    "        self.graph = graph\n",
    "        self.start = start\n",
    "        self.need_visit.append(start)\n",
    "\n",
    "    def search(self):\n",
    "        while self.need_visit: \n",
    "            node = self.need_visit.pop()        \n",
    "            if node not in self.visited: #리스트에 해당 node가 없니? \n",
    "                self.visited.append(node)  \n",
    "                self.need_visit.extend(graph[node]) # extand: 리스트와 리스트를 붙여주는 역할  \n",
    "                \n",
    "        return self.visited\n",
    " \n",
    "    "
   ]
  },
  {
   "cell_type": "code",
   "execution_count": 9,
   "metadata": {},
   "outputs": [
    {
     "name": "stdout",
     "output_type": "stream",
     "text": [
      "['A', 'C', 'I', 'J', 'H', 'G', 'B', 'D', 'F', 'E']\n"
     ]
    }
   ],
   "source": [
    "dfs = DFS(graph, 'A')\n",
    "print(dfs.search())"
   ]
  },
  {
   "cell_type": "markdown",
   "metadata": {},
   "source": [
    "## 4) 시간 복잡도\n",
    "\n",
    "- V(노드수), E(간선)  \n",
    "- while문 은 V+E번 만큼 수행된다.\n",
    "\n",
    "- O(V+E)\n",
    "\n",
    "\n",
    "* 그래프에서는 입력의 수 n을 V+E로 표한한다.\n",
    "    \n",
    "    "
   ]
  },
  {
   "cell_type": "code",
   "execution_count": null,
   "metadata": {},
   "outputs": [],
   "source": []
  }
 ],
 "metadata": {
  "kernelspec": {
   "display_name": "Python 3",
   "language": "python",
   "name": "python3"
  },
  "language_info": {
   "codemirror_mode": {
    "name": "ipython",
    "version": 3
   },
   "file_extension": ".py",
   "mimetype": "text/x-python",
   "name": "python",
   "nbconvert_exporter": "python",
   "pygments_lexer": "ipython3",
   "version": "3.7.6"
  }
 },
 "nbformat": 4,
 "nbformat_minor": 4
}
