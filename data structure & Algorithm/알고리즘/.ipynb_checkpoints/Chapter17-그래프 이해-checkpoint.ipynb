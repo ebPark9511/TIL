{
 "cells": [
  {
   "cell_type": "markdown",
   "metadata": {},
   "source": [
    "## 그래프 이해"
   ]
  },
  {
   "cell_type": "markdown",
   "metadata": {},
   "source": [
    "**1. 그래프 (Graph)?**\n",
    "* 실제 세계의 현상이나 사물을 정점 (Vertex) 또는 노드(Node)와 간선(Edge)로 표현하기 위해 사용."
   ]
  },
  {
   "cell_type": "markdown",
   "metadata": {},
   "source": [
    "**2. 그래프 (Graph) 관련 용어**\n",
    "\n",
    "* 노드(Node): 위치를 말함. 정점(Vertex) 라고도 함\n",
    "* 간선(Edge): 노드를 연결한 선.(link, branch)\n",
    "* 인접정점(Adjacent Vertex): 간선으로 직접 연결된 정점.\n",
    "* 참고용어\n",
    "    - 정점의 차수(Degree): 무방향 그래프에서 하나의 정점에 인접한 정점의 수.\n",
    "    - 진입 차수(In-Degree): 방향 그래프에서 외부에서 오는 간선의 수\n",
    "    - 진출 차수(Out-Degree): 방향 그래프에서 외부로 향하는 간선의 수\n",
    "    - 경로 길이(Path-Length): 경로를 구헝하기 위해 사용된 간선의 수\n",
    "    - 단순 경로(Simple Path): 처음 정점과 끝 정점을 제외하고 중복된 정점이 없는 경우\n",
    "    - 사이클(Cycle): 단순 경로의 시작 정점과 종료 정점이 동일한 경우\n",
    "    \n",
    "    \n",
    "    "
   ]
  },
  {
   "cell_type": "markdown",
   "metadata": {},
   "source": [
    "**3. 그래프 (Graph) 종류**\n",
    "\n",
    "(자주 나옴)\n",
    "* 무방향(Undirected) 그래프: \n",
    "- 방향이 없는 그래프, 노드는 양 방향으로 갈수있다. (A-B일경우 (A, B) (B, A))\n",
    "\n",
    "* 방향(Directed) 그래프:\n",
    "- 간선에 반향이 있는 그래프. (A->B일경우, <A,B>)\n",
    "\n",
    "* 가중치(Weighted) 그래프 or 네트워크(Network)\n",
    "- 간선에 비용 / 가중치가 할당된 그래프\n",
    "\n",
    "\n",
    "(하기는 참고)\n",
    "* 연결(Connected) 그래프와 비연결(Disconnected) 그래프\n",
    "    - 연결 그래프\n",
    "        - 무방향 그래프에 있는 모든 노드에 대해 항상 경로가 존재하는 경우.\n",
    "    - 비연결 그래프\n",
    "        - 무방향 그래프에서 특정 노드에 대해 경로가 존재하지 않는 경우.\n",
    " \n",
    " * 사이클(Cycle)과 비순환(Acyclic) 그래프\n",
    "    - 사이클(Cycle)\n",
    "        - 단순 경로의 시작 노드와 종료 노드가 동일한 경우\n",
    "    - 비순환 그래프\n",
    "        - 사이클이 없는 그래프\n",
    "        \n",
    " * 완전(Complete) 그래프\n",
    "    - 그래프의 모든 노드가 서로 연결되어 있는 그래프\n",
    "        \n",
    "\n",
    "    \n",
    "    \n",
    "    "
   ]
  },
  {
   "cell_type": "markdown",
   "metadata": {},
   "source": [
    "**4. 그래프와 트리의 차이**\n",
    "- 트리는 그래프중에 속한 한 종류다.\n",
    "\n",
    "그래프 <br>\n",
    "정의 : 노드와 노드를 연결하는 간선으로 이루어진 자료 구조<br>\n",
    "방향성: 방향 그래프, 무방향 그래프 모두 존재<br>\n",
    "사이클: 사이클 가능, 순환, 비순환 그래프 보두 존재<br>\n",
    "루트노드: 루트 노드 없음<br>\n",
    "부모/자식관계: 부모/자식 관계 개념이 없음<br><br>\n",
    "\n",
    "트리<br>\n",
    "정의 : 노드와 노드를 연결하는 간선으로 이루어진 방향성이 있는 비 순환 그래프<br>\n",
    "방향성: 방향 그래프만<br>\n",
    "사이클: 비순환 그래프만<br>\n",
    "루트노드: 루트 노드 있음<br>\n",
    "부모/자식관계: 부모/자식 관계 개념 있음<br>\n"
   ]
  },
  {
   "cell_type": "code",
   "execution_count": null,
   "metadata": {},
   "outputs": [],
   "source": []
  }
 ],
 "metadata": {
  "kernelspec": {
   "display_name": "Python 3",
   "language": "python",
   "name": "python3"
  },
  "language_info": {
   "codemirror_mode": {
    "name": "ipython",
    "version": 3
   },
   "file_extension": ".py",
   "mimetype": "text/x-python",
   "name": "python",
   "nbconvert_exporter": "python",
   "pygments_lexer": "ipython3",
   "version": "3.7.6"
  }
 },
 "nbformat": 4,
 "nbformat_minor": 4
}
