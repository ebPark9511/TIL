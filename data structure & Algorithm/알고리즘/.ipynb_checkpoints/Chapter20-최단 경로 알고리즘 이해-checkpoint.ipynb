{
 "cells": [
  {
   "cell_type": "markdown",
   "metadata": {},
   "source": [
    "# 최단 경로 알고리즘의 이해\n",
    "\n",
    "- 가중치 그래프에서 간선의 가중치 합이 최소가 되는 경로를 찾는 것이 목적이다."
   ]
  },
  {
   "cell_type": "markdown",
   "metadata": {},
   "source": [
    "## 최단 경로 문제 종류?\n",
    "\n",
    "1) 단일 출발 및 단일 도착 (single-source and single-destination shortest path problem) 최단 경로 문제\n",
    "    - 특정 노드 u에서 출발, 또 다른 특정 노드 v에 도착하는 가장 짧은 경로를 찾는 문제.\n",
    "    \n",
    "2) 단일 출발(single-source shortest path problem) 최단 경로 문제\n",
    "    - 그래프 내의 특정노드 u에서 다른 각각의 노드 중 가장 짧은 경로를 찾음\n",
    "    \n",
    "3) 전체 쌍(all-pair) 최댄 경로\n",
    "    - 그래프 내의 모든 쌍에 대한 최단 경로를 찾음"
   ]
  },
  {
   "cell_type": "markdown",
   "metadata": {},
   "source": [
    "## 다익스트라 알고리즘\n",
    "- 단일출발(single-source shortest path problem)에 해당\n",
    "- 그래프의 특정 노드에 대하여 다른 각각의 노드간의 최단거리를 구함.\n",
    "\n",
    "\n",
    "## 다익스트라의 로직?\n",
    "- 첫 노드 기준으로 인접노드를 추가해 가며 최단 거리를 갱신한다.\n",
    "\n"
   ]
  },
  {
   "cell_type": "markdown",
   "metadata": {},
   "source": [
    "## 예제\n",
    "\n",
    "   <img src=\"./image/Chapter-20_000.png\" width=400>\n",
    "\n",
    "### 1단계 초기화\n",
    "   - 첫 정점을 기준으로 배열을 선언하고 각 노드의 거리를 저장한다.\n",
    "   - 단 첫 정점 외의 타 정점은 거리를 모르므로 inf(무한대)로 저장한다.\n",
    "   <img src=\"./image/Chapter-20_001.png\" width=400>\n",
    "\n",
    "### 2단계 우선순위 큐 값 기준으로 인접 노드 간의 거리 계산\n",
    "   - 우선순위 큐에서 값을 꺼낸다.\n",
    "   - 값을 꺼낸 노드의 인접노드의 거리를 비교한다.\n",
    "   - 비교 후 배열의 값보다 작으면 값 업데이트 후 우선순위 큐에 값을 반영한다.\n",
    "   <img src=\"./image/Chapter-20_002.png\" width=400>\n",
    "\n",
    "\n",
    "### 3단계 2단계 반복 (우선순위 큐에 값이 없을때까지 반복.)\n",
    "   <img src=\"./image/Chapter-20_003.png\" width=400>\n",
    "\n",
    "### 4단계 2단계 반복\n",
    "   <img src=\"./image/Chapter-20_004.png\" width=400>\n",
    "\n",
    "### 5단계 2단계 반복\n",
    "   <img src=\"./image/Chapter-20_005.png\" width=400>\n",
    "\n",
    "### 6단계 2단계 반복\n",
    "   <img src=\"./image/Chapter-20_006.png\" width=400>\n",
    "\n",
    "### 7단계 2단계 반복\n",
    "   <img src=\"./image/Chapter-20_007.png\" width=400>\n"
   ]
  },
  {
   "cell_type": "markdown",
   "metadata": {},
   "source": [
    "- **우선순위 큐를 사용시.**<br>\n",
    "다익스트라 알고리즘의 유형은 다양하지만. \n",
    "우선순위 큐의 경우 복잡한 경로는 나중에 연산되므로 불필요한 연산을 줄일수 있다.<br>"
   ]
  },
  {
   "cell_type": "markdown",
   "metadata": {},
   "source": [
    "## 우선 순위 큐를 활용한 다익스트라 알고리즘 파이썬 구현.\n",
    "\n",
    "### heapq 라이브러리 활용을 통해 우선순위 큐 사용하기."
   ]
  },
  {
   "cell_type": "code",
   "execution_count": 5,
   "metadata": {},
   "outputs": [
    {
     "name": "stdout",
     "output_type": "stream",
     "text": [
      "[[2, 'A'], [5, 'B'], [3, 'C'], [7, 'D']]\n",
      "[2, 'A']\n",
      "[3, 'C']\n",
      "[5, 'B']\n",
      "[7, 'D']\n"
     ]
    }
   ],
   "source": [
    "import heapq\n",
    "\n",
    "queue = []\n",
    "\n",
    "# heap 형태로 넣을시 heappush 메서드 사용.\n",
    "heapq.heappush(queue, [2, 'A'])\n",
    "heapq.heappush(queue, [5, 'B'])\n",
    "heapq.heappush(queue, [3, 'C'])\n",
    "heapq.heappush(queue, [7, 'D'])\n",
    "\n",
    "# 지금까지 넣은 값중에 가장 작은 값이 루트노드에 올라와 있다.\n",
    "print(queue)\n",
    "\n",
    "\n",
    "for index in range(len(queue)):\n",
    "    print(heapq.heappop(queue))\n"
   ]
  },
  {
   "cell_type": "markdown",
   "metadata": {},
   "source": [
    "### 다익스트라 알고리즘 구현.\n",
    "<img src=\"./image/Chapter-20_000.png\" width=400>"
   ]
  },
  {
   "cell_type": "code",
   "execution_count": 7,
   "metadata": {},
   "outputs": [],
   "source": [
    "mygraph = {\n",
    "    'A': {'B':8, 'C':1, 'D':2},\n",
    "    'B': {},\n",
    "    'C': {'B': 5, 'D':2},\n",
    "    'D': {'E':3, 'F': 5},\n",
    "    'E': {'F': 1},\n",
    "    'F': {'A': 5}\n",
    "}"
   ]
  },
  {
   "cell_type": "code",
   "execution_count": 37,
   "metadata": {},
   "outputs": [
    {
     "name": "stdout",
     "output_type": "stream",
     "text": [
      "{'A': 0, 'B': 6, 'C': 1, 'D': 2, 'E': 5, 'F': 6}\n"
     ]
    }
   ],
   "source": [
    "import heapq\n",
    "\n",
    "def dijkstra(graph, start):\n",
    "    distances = {node: float('inf') for node in graph}\n",
    "    distances[start] = 0\n",
    "    queue = []\n",
    "    heapq.heappush(queue, [distances[start], start])\n",
    "        \n",
    "    while queue:\n",
    "        # 딕셔너리라 weight, value 형태로 값이 저장됨.\n",
    "        current_distance, current_node = heapq.heappop(queue)\n",
    "\n",
    "        for adjacent, weight in graph[current_node].items():\n",
    "            if distances[adjacent] > weight:\n",
    "                sum_weight = current_distance + weight\n",
    "                distances[adjacent] = sum_weight \n",
    "                heapq.heappush(queue, [sum_weight, adjacent]) \n",
    "                \n",
    "    \n",
    "    return distances\n",
    "            \n",
    "    \n",
    "    \n",
    "print(dijkstra(mygraph, 'A'))"
   ]
  },
  {
   "cell_type": "markdown",
   "metadata": {},
   "source": [
    "## 시간 복잡도\n",
    "- 다익스트라 알고리즘\n",
    "    - 과정1: 각 노드마다 인접한 간선들을 모두 검사한다. O(E) \n",
    "    - 과정2: 우선순위 큐에서 정보를 넣고 삭제하는 과정. \n",
    "            - 추가는 각 간선마다 최대 한번 일어날수 있다. O(E)\n",
    "            - 우선순위 큐를 유지하는 작업은 O(logE) 만큼이 든다.\n",
    "                따라서 과정2는 O(ElogE)\n",
    "    \n",
    "    *** E는 Edge의 약자 ***\n",
    "    \n",
    "    \n",
    "   \n",
    "- 총 복잡도\n",
    "    - O(E) + O(ElogE) = O(E + ElogE) = O(ElogE)"
   ]
  },
  {
   "cell_type": "code",
   "execution_count": null,
   "metadata": {},
   "outputs": [],
   "source": []
  }
 ],
 "metadata": {
  "kernelspec": {
   "display_name": "Python 3",
   "language": "python",
   "name": "python3"
  },
  "language_info": {
   "codemirror_mode": {
    "name": "ipython",
    "version": 3
   },
   "file_extension": ".py",
   "mimetype": "text/x-python",
   "name": "python",
   "nbconvert_exporter": "python",
   "pygments_lexer": "ipython3",
   "version": "3.7.6"
  }
 },
 "nbformat": 4,
 "nbformat_minor": 4
}
