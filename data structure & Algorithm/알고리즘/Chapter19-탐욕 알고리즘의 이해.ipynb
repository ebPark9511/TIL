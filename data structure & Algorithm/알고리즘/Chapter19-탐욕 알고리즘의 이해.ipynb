{
 "cells": [
  {
   "cell_type": "markdown",
   "metadata": {},
   "source": [
    "# 탐욕 알고리즘의 이해"
   ]
  },
  {
   "cell_type": "markdown",
   "metadata": {},
   "source": [
    "## 1. 탐욕 알고리즘 이란?\n",
    "- 여러 경우 중 하나를 결정해야 할때마다, **매순간 최적이라고 생각되는 경우를 선택**하는 장식으로 진행하여 최종적인 값을 구하는 방식"
   ]
  },
  {
   "cell_type": "markdown",
   "metadata": {},
   "source": [
    "## 2. 탐욕 알고리즘 예"
   ]
  },
  {
   "cell_type": "markdown",
   "metadata": {},
   "source": [
    "### 문1) 동전문제\n",
    "- 지불해야 하는 값이 4720원 일 때 1원 50원 100원 500원 동전으로 동전의 수가 가장 적게 지불하시오."
   ]
  },
  {
   "cell_type": "code",
   "execution_count": 15,
   "metadata": {
    "scrolled": true
   },
   "outputs": [
    {
     "data": {
      "text/plain": [
       "(31, [[500, 220], [100, 20], [50, 20], [1, 0]])"
      ]
     },
     "execution_count": 15,
     "metadata": {},
     "output_type": "execute_result"
    }
   ],
   "source": [
    "pay_amt = 4720\n",
    "coin_list = [500,100,50,1]\n",
    "cnt = 0\n",
    "\n",
    "\n",
    "def solution(value, coin_list):\n",
    "    coin_list.sort(reverse = True)\n",
    "    tot_cnt = 0\n",
    "    detail = list()\n",
    "    for coin in coin_list:\n",
    "        coin_num = value // coin\n",
    "        tot_cnt += coin_num\n",
    "        value -= coin_num * coin\n",
    "        detail.append([coin, value])\n",
    "    \n",
    "    return tot_cnt, detail\n",
    "     \n",
    "\n",
    "\n",
    "solution(4720, coin_list)"
   ]
  }
 ],
 "metadata": {
  "kernelspec": {
   "display_name": "Python 3",
   "language": "python",
   "name": "python3"
  },
  "language_info": {
   "codemirror_mode": {
    "name": "ipython",
    "version": 3
   },
   "file_extension": ".py",
   "mimetype": "text/x-python",
   "name": "python",
   "nbconvert_exporter": "python",
   "pygments_lexer": "ipython3",
   "version": "3.7.6"
  }
 },
 "nbformat": 4,
 "nbformat_minor": 4
}
