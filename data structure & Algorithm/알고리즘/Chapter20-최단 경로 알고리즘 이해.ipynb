{
 "cells": [
  {
   "cell_type": "markdown",
   "metadata": {},
   "source": [
    "# 최단 경로 알고리즘의 이해\n",
    "\n",
    "- 가중치 그래프에서 간선의 가중치 합이 최소가 되는 경로를 찾는 것이 목적이다."
   ]
  },
  {
   "cell_type": "markdown",
   "metadata": {},
   "source": [
    "## 최단 경로 문제 종류?\n",
    "\n",
    "1) 단일 출발 및 단일 도착 (single-source and single-destination shortest path problem) 최단 경로 문제\n",
    "    - 특정 노드 u에서 출발, 또 다른 특정 노드 v에 도착하는 가장 짧은 경로를 찾는 문제.\n",
    "    \n",
    "2) 단일 출발(single-source shortest path problem) 최단 경로 문제\n",
    "    - 그래프 내의 특정노드 u에서 다른 각각의 노드 중 가장 짧은 경로를 찾음\n",
    "    \n",
    "3) 전체 쌍(all-pair) 최댄 경로\n",
    "    - 그래프 내의 모든 쌍에 대한 최단 경로를 찾음"
   ]
  },
  {
   "cell_type": "markdown",
   "metadata": {},
   "source": [
    "## 다익스트라 알고리즘\n",
    "- 단일출발(single-source shortest path problem)에 해당\n",
    "- 그래프의 특정 노드에 대하여 다른 각각의 노드간의 최단거리를 구함.\n",
    "\n",
    "\n",
    "## 다익스트라의 로직?\n",
    "- 첫 노드 기준으로 인접노드를 추가해 가며 최단 거리를 갱신한다.\n",
    "\n"
   ]
  },
  {
   "cell_type": "markdown",
   "metadata": {},
   "source": [
    "## 예제\n",
    "\n",
    "   <img src=\"./image/Chapter-20_000.png\" width=400>\n",
    "\n",
    "### 1단계 초기화\n",
    "   - 첫 정점을 기준으로 배열을 선언하고 각 노드의 거리를 저장한다.\n",
    "   - 단 첫 정점 외의 타 정점은 거리를 모르므로 inf(무한대)로 저장한다.\n",
    "   <img src=\"./image/Chapter-20_001.png\" width=400>\n",
    "\n",
    "### 2단계 우선순위 큐 값 기준으로 인접 노드 간의 거리 계산\n",
    "   - 우선순위 큐에서 값을 꺼낸다.\n",
    "   - 값을 꺼낸 노드의 인접노드의 거리를 비교한다.\n",
    "   - 비교 후 배열의 값보다 작으면 값 업데이트 후 우선순위 큐에 값을 반영한다.\n",
    "   <img src=\"./image/Chapter-20_002.png\" width=400>\n",
    "\n",
    "\n",
    "### 3단계 2단계 반복 (우선순위 큐에 값이 없을때까지 반복.)\n",
    "   <img src=\"./image/Chapter-20_003.png\" width=400>\n",
    "\n",
    "### 4단계 2단계 반복\n",
    "   <img src=\"./image/Chapter-20_004.png\" width=400>\n",
    "\n",
    "### 5단계 2단계 반복\n",
    "   <img src=\"./image/Chapter-20_005.png\" width=400>\n",
    "\n",
    "### 6단계 2단계 반복\n",
    "   <img src=\"./image/Chapter-20_006.png\" width=400>\n",
    "\n",
    "### 7단계 2단계 반복\n",
    "   <img src=\"./image/Chapter-20_007.png\" width=400>\n"
   ]
  },
  {
   "cell_type": "markdown",
   "metadata": {},
   "source": [
    "- **우선순위 큐를 사용시.**<br>\n",
    "다익스트라 알고리즘의 유형은 다양하지만. \n",
    "우선순위 큐의 경우 복잡한 경로는 나중에 연산되므로 불필요한 연산을 줄일수 있다.<br>"
   ]
  },
  {
   "cell_type": "code",
   "execution_count": null,
   "metadata": {},
   "outputs": [],
   "source": []
  }
 ],
 "metadata": {
  "kernelspec": {
   "display_name": "Python 3",
   "language": "python",
   "name": "python3"
  },
  "language_info": {
   "codemirror_mode": {
    "name": "ipython",
    "version": 3
   },
   "file_extension": ".py",
   "mimetype": "text/x-python",
   "name": "python",
   "nbconvert_exporter": "python",
   "pygments_lexer": "ipython3",
   "version": "3.7.6"
  }
 },
 "nbformat": 4,
 "nbformat_minor": 4
}
