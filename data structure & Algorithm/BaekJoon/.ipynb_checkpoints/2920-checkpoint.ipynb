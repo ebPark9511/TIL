{
 "cells": [
  {
   "cell_type": "markdown",
   "metadata": {},
   "source": [
    "https://www.acmicpc.net/problem/2920"
   ]
  },
  {
   "cell_type": "code",
   "execution_count": 90,
   "metadata": {
    "scrolled": true
   },
   "outputs": [
    {
     "name": "stdout",
     "output_type": "stream",
     "text": [
      "8 1 7 2 6 3 5 4\n",
      "mixed\n"
     ]
    }
   ],
   "source": [
    "scales = list(map(int, input().split(' ')))  \n",
    "scale_state = 0\n",
    "for i in range(1, len(scales) - 1):\n",
    "    cal = scales[i+1] - scales[i] \n",
    "    if scale_state == 0:\n",
    "        scale_state = cal\n",
    "    \n",
    "    if cal != scale_state:\n",
    "        scale_state = 0\n",
    "        break\n",
    "    \n",
    "     \n",
    "if scale_state == -1:\n",
    "    print('descending')\n",
    "elif scale_state == 1:\n",
    "    print('ascending')\n",
    "elif scale_state == 0:\n",
    "    print('mixed')"
   ]
  }
 ],
 "metadata": {
  "kernelspec": {
   "display_name": "Python 3",
   "language": "python",
   "name": "python3"
  },
  "language_info": {
   "codemirror_mode": {
    "name": "ipython",
    "version": 3
   },
   "file_extension": ".py",
   "mimetype": "text/x-python",
   "name": "python",
   "nbconvert_exporter": "python",
   "pygments_lexer": "ipython3",
   "version": "3.7.6"
  }
 },
 "nbformat": 4,
 "nbformat_minor": 4
}
