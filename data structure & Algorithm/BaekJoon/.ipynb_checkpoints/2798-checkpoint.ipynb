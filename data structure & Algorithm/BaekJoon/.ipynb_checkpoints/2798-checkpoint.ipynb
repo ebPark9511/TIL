{
 "cells": [
  {
   "cell_type": "markdown",
   "metadata": {},
   "source": [
    "https://www.acmicpc.net/problem/2798"
   ]
  },
  {
   "cell_type": "code",
   "execution_count": 7,
   "metadata": {},
   "outputs": [
    {
     "name": "stdout",
     "output_type": "stream",
     "text": [
      "10 500\n",
      "93 181 245 214 315 36 185 138 216 295\n",
      "497\n"
     ]
    }
   ],
   "source": [
    "input_game = input()\n",
    "input_cards = input()\n",
    "game = list(map(int, input_game.split(' ')))\n",
    "cards = list(map(int, input_cards.split(' ')))\n",
    " \n",
    "game_goal_num = game[1]\n",
    "result = game_goal_num\n",
    "\n",
    "for first_index in range(0, len(cards)-2):\n",
    "    for second_index in range(first_index+1, len(cards)-1):\n",
    "        for third_index in range(second_index+1, len(cards)): \n",
    "            turn_result = game_goal_num - (cards[first_index] + cards[second_index] + cards[third_index])\n",
    "            if turn_result == 0:\n",
    "                result = turn_result\n",
    "            elif (0 < turn_result) and turn_result < result:\n",
    "                result = turn_result\n",
    "                \n",
    "print(game_goal_num-result)"
   ]
  }
 ],
 "metadata": {
  "kernelspec": {
   "display_name": "Python 3",
   "language": "python",
   "name": "python3"
  },
  "language_info": {
   "codemirror_mode": {
    "name": "ipython",
    "version": 3
   },
   "file_extension": ".py",
   "mimetype": "text/x-python",
   "name": "python",
   "nbconvert_exporter": "python",
   "pygments_lexer": "ipython3",
   "version": "3.7.6"
  }
 },
 "nbformat": 4,
 "nbformat_minor": 4
}
